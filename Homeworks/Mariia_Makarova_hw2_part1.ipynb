{
  "cells": [
    {
      "cell_type": "markdown",
      "id": "approved-psychology",
      "metadata": {
        "id": "approved-psychology"
      },
      "source": [
        "# Home Assignment No. 2 - part one\n",
        "\n",
        "To solve this task, you will write a lot of code to try several machine learning methods for classification and regression.\n",
        "* You are **HIGHLY RECOMMENDED** to read relevant documentation, e.g. for [python](https://docs.python.org/3/), [numpy](https://docs.scipy.org/doc/numpy/reference/), [matlpotlib](https://matplotlib.org/) and [sklearn](https://scikit-learn.org/stable/). Also remember that seminars, lecture slides, [Google](http://google.com) and [StackOverflow](https://stackoverflow.com/) are your close friends during this course (and, probably, whole life?).\n",
        "\n",
        "* If you want an easy life, you have to use **BUILT-IN METHODS** of `sklearn` library instead of writing tons of your own code. There exists a class/method for almost everything you can imagine (related to this homework).\n",
        "\n",
        "* You have to write **CODE** directly inside specified places marked by comments: **BEGIN/END Solution**. Do not create new cells.\n",
        "\n",
        "* In some problems you are asked to provide a short discussion of the results. For that find the specific place marked via **Your text answer: \\<write your answer\\>**.\n",
        "\n",
        "* For every separate problem or subproblem (if specified) you can get only 0 points or maximal points for this problem. There are **NO INTERMEDIATE scores**. So make sure that you did everything required in the task.\n",
        "\n",
        "* Your **SOLUTION** notebook **MUST BE REPRODUCIBLE**, i.e., if the reviewer decides to restart the notebook and run all cells, after all the computation he will obtain exactly the same solution (with all the corresponding plots) as in your uploaded notebook. For this purpose, we suggest fixing random `seed` or (better) define `random_state=` inside every algorithm that uses some pseudorandomness.\n",
        "\n",
        "* Your code must be clear to the reviewer. For this purpose, try to include necessary comments inside the code. But remember: **GOOD CODE MUST BE SELF-EXPLANATORY** without any additional comments.\n",
        "\n",
        "* Many `sklearn` algorithms support multithreading (Ensemble Methods, Cross-Validation, etc.). Check if the particular algorithm has `n_jobs` parameters and set it to `-1` to use all the cores.\n"
      ]
    },
    {
      "cell_type": "code",
      "execution_count": 2,
      "id": "cooperative-spokesman",
      "metadata": {
        "id": "cooperative-spokesman"
      },
      "outputs": [],
      "source": [
        "import numpy as np\n",
        "import sklearn\n",
        "from sklearn.model_selection import train_test_split\n",
        "import pandas as pd\n",
        "import matplotlib.pyplot as plt\n",
        "from sklearn.model_selection import cross_val_score\n",
        "%matplotlib inline"
      ]
    },
    {
      "cell_type": "code",
      "execution_count": 3,
      "id": "noted-bridal",
      "metadata": {
        "id": "noted-bridal"
      },
      "outputs": [],
      "source": [
        "import warnings\n",
        "warnings.filterwarnings(\"ignore\")"
      ]
    },
    {
      "cell_type": "markdown",
      "id": "guilty-contamination",
      "metadata": {
        "id": "guilty-contamination"
      },
      "source": [
        "## Task 1. Model and feature selection problem (3 points)\n",
        "\n",
        "Your goal in this task is to predict the price (```price_doc```) given some characteristics of a house. In order to do that, you will demonstrate your abilities in data preprocessing, finding feature importances, applying different ML models."
      ]
    },
    {
      "cell_type": "markdown",
      "id": "friendly-review",
      "metadata": {
        "id": "friendly-review"
      },
      "source": [
        "### Subproblem 1.1. Data preprocessing and feauture importances (1 point)\n",
        "\n",
        "The goal of this subproblem is to prepare the data for further usage. Complete all of the following subtasks:"
      ]
    },
    {
      "cell_type": "markdown",
      "id": "rational-reggae",
      "metadata": {
        "id": "rational-reggae"
      },
      "source": [
        "**1.1.1) load the dataset**"
      ]
    },
    {
      "cell_type": "code",
      "execution_count": 4,
      "id": "nutritional-phoenix",
      "metadata": {
        "id": "nutritional-phoenix"
      },
      "outputs": [],
      "source": [
        "### BEGIN Solution (do not delete this comment)\n",
        "\n",
        "filename = 'data_fs.csv'\n",
        "data = pd.read_csv(filename)\n",
        "\n",
        "### END Solution (do not delete this comment)"
      ]
    },
    {
      "cell_type": "markdown",
      "id": "objective-working",
      "metadata": {
        "id": "objective-working"
      },
      "source": [
        "**1.1.2) preprocess the dataset by dropping the ```timestamp``` feature, filling ```NaN```s with 0, converting the categorical variables into dummy variables**"
      ]
    },
    {
      "cell_type": "code",
      "execution_count": 5,
      "id": "another-keyboard",
      "metadata": {
        "id": "another-keyboard"
      },
      "outputs": [],
      "source": [
        "### BEGIN Solution (do not delete this comment)\n",
        "\n",
        "data.drop(['timestamp'], axis='columns', inplace=True)\n",
        "data = data.fillna(0)\n",
        "\n",
        "categorical_cols = data.select_dtypes(include=['object']).columns.tolist()\n",
        "for col in categorical_cols:\n",
        "  pd.get_dummies(data[col])\n",
        "\n",
        "data.drop(categorical_cols, axis='columns', inplace=True)\n",
        "\n",
        "### END Solution (do not delete this comment)"
      ]
    },
    {
      "cell_type": "markdown",
      "id": "dress-shanghai",
      "metadata": {
        "id": "dress-shanghai"
      },
      "source": [
        "**1.1.3) define ```x_train```, ```x_test```, ```y_train```, ```y_test```. The train-test split should be 70:30**\n"
      ]
    },
    {
      "cell_type": "code",
      "execution_count": 6,
      "id": "outdoor-runner",
      "metadata": {
        "id": "outdoor-runner"
      },
      "outputs": [],
      "source": [
        "### BEGIN Solution (do not delete this comment)\n",
        "\n",
        "x, y = data.loc[:, data.columns != 'price_doc'], data['price_doc']\n",
        "x_train, x_test, y_train, y_test = train_test_split(x, y, test_size=0.3, random_state=5)\n",
        "\n",
        "### END Solution (do not delete this comment)"
      ]
    },
    {
      "cell_type": "markdown",
      "id": "engaging-ready",
      "metadata": {
        "id": "engaging-ready"
      },
      "source": [
        "\n",
        "**1.1.4) plot the histogram of y values. Note that the mean of these values is very high and the distribution of the values is far from normal. Create ```y_train_log``` and ```y_test_log``` by applying $log_{y}$. Now plot the new histogram of the obtained values. You should use these log values for the next subtasks.**   "
      ]
    },
    {
      "cell_type": "code",
      "execution_count": 7,
      "id": "inclusive-outreach",
      "metadata": {
        "colab": {
          "base_uri": "https://localhost:8080/",
          "height": 1000
        },
        "id": "inclusive-outreach",
        "outputId": "aec92b10-44a5-4888-9717-6c84ed649198"
      },
      "outputs": [
        {
          "output_type": "display_data",
          "data": {
            "image/png": "[encoded data removed]",
            "text/plain": [
              "<Figure size 576x1296 with 4 Axes>"
            ]
          },
          "metadata": {
            "needs_background": "light"
          }
        }
      ],
      "source": [
        "### BEGIN Solution (do not delete this comment)\n",
        "\n",
        "fig, axes = plt.subplots(ncols=1, nrows=4, figsize=(8,18))\n",
        "\n",
        "y_train_log = np.log(y_train)\n",
        "y_test_log = np.log(y_test)\n",
        "y_values = [y_train, y_test, y_train_log, y_test_log]\n",
        "\n",
        "for y_val, ax in zip(y_values, axes.flat):\n",
        "    n, bins, patches = ax.hist(x=y_val, bins=100)\n",
        "    ax.grid(axis='y', alpha=0.75)\n",
        "    ax.grid(True)\n",
        "    ax.set_title(y_val.name)\n",
        "plt.show() \n",
        "\n",
        "### END Solution (do not delete this comment)"
      ]
    },
    {
      "cell_type": "markdown",
      "id": "noticed-drunk",
      "metadata": {
        "id": "noticed-drunk"
      },
      "source": [
        "**1.1.5) print the number of features in the created ```x_train``` and ```x_test``` datasets. Answer the question: do you think all of these features are relevant for the adequate price prediction?**\n"
      ]
    },
    {
      "cell_type": "code",
      "execution_count": 8,
      "id": "strategic-spending",
      "metadata": {
        "colab": {
          "base_uri": "https://localhost:8080/"
        },
        "id": "strategic-spending",
        "outputId": "d651b5fe-f6b1-458b-efa8-ec5d90a60b08"
      },
      "outputs": [
        {
          "output_type": "stream",
          "name": "stdout",
          "text": [
            "(21329, 370) (9142, 370)\n"
          ]
        }
      ],
      "source": [
        "### BEGIN Solution (do not delete this comment)\n",
        "\n",
        "print(x_train.shape, x_test.shape)\n",
        " \n",
        "### END Solution (do not delete this comment)"
      ]
    },
    {
      "cell_type": "markdown",
      "id": "restricted-anchor",
      "metadata": {
        "id": "restricted-anchor"
      },
      "source": [
        "**Your text answer (do not delete this comment)**:\n",
        "\n",
        "I do not think that all of these features are relevant for the adequate price prediction because not all of the features can have significant effect on the model which is used to predict certain variable. There are too many of them, and we need to choose best ones in order to achive better perfomance for our model."
      ]
    },
    {
      "cell_type": "markdown",
      "id": "endangered-mineral",
      "metadata": {
        "id": "endangered-mineral"
      },
      "source": [
        "**1.1.6) use random forest to find the importance of the features. Plot the histogram of the importances.**"
      ]
    },
    {
      "cell_type": "code",
      "execution_count": 9,
      "id": "residential-tongue",
      "metadata": {
        "colab": {
          "base_uri": "https://localhost:8080/",
          "height": 265
        },
        "id": "residential-tongue",
        "outputId": "7f317f53-ac53-4699-95cc-fe1e23b2312e"
      },
      "outputs": [
        {
          "output_type": "display_data",
          "data": {
            "image/png": "[encoded data removed]",
            "text/plain": [
              "<Figure size 432x288 with 1 Axes>"
            ]
          },
          "metadata": {
            "needs_background": "light"
          }
        }
      ],
      "source": [
        "### BEGIN Solution (do not delete this comment)\n",
        "\n",
        "from sklearn.ensemble import RandomForestRegressor\n",
        "from sklearn.metrics import average_precision_score\n",
        "\n",
        "clf = RandomForestRegressor(random_state=5, n_jobs=-1)\n",
        "\n",
        "clf.fit(x_train, y_train_log)\n",
        "\n",
        "feat_import = pd.Series(clf.feature_importances_, index=x_train.columns)\n",
        "\n",
        "plt.hist(x=feat_import.sort_values(), bins=100)\n",
        "plt.grid(False)\n",
        "\n",
        "### END Solution (do not delete this comment)"
      ]
    },
    {
      "cell_type": "markdown",
      "id": "ethical-firmware",
      "metadata": {
        "id": "ethical-firmware"
      },
      "source": [
        "**1.1.7) print the names of the 20 most important features**"
      ]
    },
    {
      "cell_type": "code",
      "execution_count": 10,
      "id": "amazing-marriage",
      "metadata": {
        "colab": {
          "base_uri": "https://localhost:8080/",
          "height": 812
        },
        "id": "amazing-marriage",
        "outputId": "09a13d92-6fea-46b6-ac68-d1afe7b1bbbe"
      },
      "outputs": [
        {
          "output_type": "display_data",
          "data": {
            "image/png": "[encoded data removed]",
            "text/plain": [
              "<Figure size 432x288 with 1 Axes>"
            ]
          },
          "metadata": {
            "needs_background": "light"
          }
        },
        {
          "output_type": "display_data",
          "data": {
            "text/plain": [
              "<Figure size 720x504 with 0 Axes>"
            ]
          },
          "metadata": {}
        },
        {
          "output_type": "stream",
          "name": "stdout",
          "text": [
            "full_sq                       0.235834\n",
            "sport_count_3000              0.021764\n",
            "cafe_count_3000               0.021472\n",
            "num_room                      0.017394\n",
            "cafe_count_2000               0.012078\n",
            "cafe_count_5000               0.010592\n",
            "cafe_count_5000_price_2500    0.010316\n",
            "exhibition_km                 0.009595\n",
            "metro_km_avto                 0.008768\n",
            "micex_cbi_tr                  0.008135\n",
            "ttk_km                        0.007618\n",
            "floor                         0.007137\n",
            "public_healthcare_km          0.007125\n",
            "metro_min_avto                0.006974\n",
            "eurrub                        0.006885\n",
            "micex                         0.006872\n",
            "kindergarten_km               0.006709\n",
            "brent                         0.006576\n",
            "catering_km                   0.006523\n",
            "nuclear_reactor_km            0.006497\n",
            "dtype: float64\n"
          ]
        }
      ],
      "source": [
        "### BEGIN Solution (do not delete this comment)\n",
        "\n",
        "top20 = feat_import.sort_values(ascending=False).head(20)\n",
        "top20.plot(kind='bar')\n",
        "\n",
        "plt.title(f'{type(clf).__name__} Feature Importances')\n",
        "plt.xlabel(\"Relative Importance\")\n",
        "plt.figure(figsize=(10,7))\n",
        "plt.show()\n",
        "print(top20)\n",
        "\n",
        "### END Solution (do not delete this comment)"
      ]
    },
    {
      "cell_type": "markdown",
      "id": "threaded-ivory",
      "metadata": {
        "id": "threaded-ivory"
      },
      "source": [
        "<br>"
      ]
    },
    {
      "cell_type": "markdown",
      "id": "little-toddler",
      "metadata": {
        "id": "little-toddler"
      },
      "source": [
        "### Subproblem 1.2. Training models on the most important features (1 point)"
      ]
    },
    {
      "cell_type": "markdown",
      "id": "vietnamese-patrick",
      "metadata": {
        "id": "vietnamese-patrick"
      },
      "source": [
        "In this subproblem, you will train several ML models on the found 20 most important features: train **Linear Regression**,  **Ridge regression**, **Random forest**,  **DecisionTree** and evaluate their performance using the Root Mean Squared Logarithmic Error (RMSLE) on both train/test sets. \n",
        "\n",
        "You will have to repeat the same actions in the next tasks too, so we recommend to implement\n",
        "a dedicated function for comparisons, which\n",
        "1. on input takes a training dataset `(X_train, y_train)` and a test sample `(X_test, y_test)`;\n",
        "2. it trains **all of the listed models** on the `(X_train, y_train)` sample;\n",
        "3. it computes and returns a table with the RMSLE score of each fitted model on the train and test datasets."
      ]
    },
    {
      "cell_type": "markdown",
      "id": "stupid-principle",
      "metadata": {
        "id": "stupid-principle"
      },
      "source": [
        "**1.2.1) Implement the function described above**"
      ]
    },
    {
      "cell_type": "code",
      "execution_count": 11,
      "id": "paperback-uniform",
      "metadata": {
        "id": "paperback-uniform",
        "colab": {
          "base_uri": "https://localhost:8080/"
        },
        "outputId": "8f2be3d5-b03a-4f3e-f8d3-64be8a677bd4"
      },
      "outputs": [
        {
          "output_type": "stream",
          "name": "stdout",
          "text": [
            "                        Train Error  Test Error\n",
            "DecisionTreeRegressor  2.560424e-10    0.001635\n",
            "LinearRegression       9.327773e-04    0.000959\n",
            "Ridge                  9.334692e-04    0.000959\n",
            "RandomForestRegressor  1.266092e-04    0.000848\n",
            "Lasso                  1.076569e-03    0.001072\n"
          ]
        }
      ],
      "source": [
        "### BEGIN Solution (do not delete this comment)\n",
        "\n",
        "from sklearn.linear_model import LinearRegression, Ridge, Lasso\n",
        "from sklearn.linear_model import Ridge\n",
        "from sklearn.ensemble import RandomForestRegressor\n",
        "from sklearn.tree import DecisionTreeRegressor\n",
        "from sklearn.metrics import accuracy_score, mean_squared_log_error \n",
        "\n",
        "dectree_clf = DecisionTreeRegressor(random_state=5)\n",
        "linreg_clf = LinearRegression(n_jobs=-1)\n",
        "ridgereg_clf = Ridge()\n",
        "ranfor_clf = RandomForestRegressor(n_jobs=1, random_state=5)\n",
        "lasso_clf = Lasso(random_state=5)\n",
        "\n",
        "classifiers = [dectree_clf, linreg_clf, ridgereg_clf, ranfor_clf, lasso_clf]\n",
        "df = pd.DataFrame(columns=('Train Error', 'Test Error'))\n",
        "\n",
        "def comparison_function(clfs, train_data, test_data):\n",
        "    X_train, y_train = train_data\n",
        "    X_test, y_test = test_data\n",
        "\n",
        "    clf.fit(X_train, y_train)\n",
        "\n",
        "    y_pred = clf.predict(X_train)\n",
        "    train_error = mean_squared_log_error(y_train, y_pred)\n",
        "\n",
        "    y_pred = clf.predict(X_test)\n",
        "    test_error = mean_squared_log_error(y_test, y_pred)\n",
        "\n",
        "    return train_error, test_error\n",
        "\n",
        "\n",
        "for clf in classifiers:\n",
        "    train_error, test_error = comparison_function(clf, (x_train, y_train_log), (x_test, y_test_log))\n",
        "    values_to_add = {'Train Error': train_error, 'Test Error': test_error}\n",
        "    row_to_add = pd.Series(values_to_add, name=type(clf).__name__)\n",
        "    df = df.append(row_to_add)\n",
        " \n",
        "print(df)\n",
        "\n",
        "### END Solution (do not delete this comment)"
      ]
    },
    {
      "cell_type": "markdown",
      "id": "demographic-honolulu",
      "metadata": {
        "id": "demographic-honolulu"
      },
      "source": [
        "**1.2.2) Apply the implemented function to our dataset (use only the 20 most important features)**"
      ]
    },
    {
      "cell_type": "code",
      "execution_count": 12,
      "id": "loved-bedroom",
      "metadata": {
        "colab": {
          "base_uri": "https://localhost:8080/"
        },
        "id": "loved-bedroom",
        "outputId": "fe2a6dc8-2d62-4384-e19e-37a81dbac7fc"
      },
      "outputs": [
        {
          "output_type": "stream",
          "name": "stdout",
          "text": [
            "                        Train Error  Test Error\n",
            "DecisionTreeRegressor  8.984404e-10    0.001643\n",
            "LinearRegression       1.045916e-03    0.001022\n",
            "Ridge                  1.045915e-03    0.001022\n",
            "RandomForestRegressor  1.264979e-04    0.000840\n",
            "Lasso                  1.220452e-03    0.001204\n"
          ]
        }
      ],
      "source": [
        "### BEGIN Solution\n",
        "\n",
        "classifiers = [dectree_clf, linreg_clf, ridgereg_clf, ranfor_clf, lasso_clf]\n",
        "df = pd.DataFrame(columns=('Train Error', 'Test Error'))\n",
        "top20_list = top20.index.tolist()\n",
        "\n",
        "for clf in classifiers:\n",
        "    train_error, test_error = comparison_function(clf, (x_train[top20_list], y_train_log), (x_test[top20_list], y_test_log))\n",
        "    values_to_add = {'Train Error': train_error, 'Test Error': test_error}\n",
        "    row_to_add = pd.Series(values_to_add, name=type(clf).__name__)\n",
        "    df = df.append(row_to_add)\n",
        " \n",
        "print(df)\n",
        "\n",
        "### END Solution"
      ]
    },
    {
      "cell_type": "markdown",
      "id": "6lSOGA4-7RSx",
      "metadata": {
        "id": "6lSOGA4-7RSx"
      },
      "source": [
        "<br>"
      ]
    },
    {
      "cell_type": "markdown",
      "id": "stock-jewel",
      "metadata": {
        "id": "stock-jewel"
      },
      "source": [
        "### Subproblem 1.3. Forward-backward methods (1 point)\n",
        "In the subproblems above, we have relied on the feature importances found by the random forest method. The main goal of this subproblem is to find feature importances by applying the forward-backward methods: the main idea is to add or remove features and compute how this removal influences the value of the loss function or some other criteria.\n",
        "\n",
        "The decision about adding or deleting a feature may be made based on:\n",
        "\n",
        "- AIC\n",
        "- BIC\n",
        "- validation error\n",
        "- Mallows $C_p$\n",
        "- sklearn's `estimator.score()`"
      ]
    },
    {
      "cell_type": "markdown",
      "id": "southern-closer",
      "metadata": {
        "id": "southern-closer"
      },
      "source": [
        "In subtasks, 1.3.1 - 1.3.3, implement the following greedy feature selection algorithm with early stopping using the mean of the RMSLE scores achieved on the 3-fold cross-validation. Please bear in mind that **the lower** RMSLE (`mean_squared_log_error`) is, **the higher the model \"quality\" is** and look up `cross_val_score(...)` peculiarities in [scikit's manual](https://scikit-learn.org/stable/documentation.html) for more information.\n",
        "\n",
        "```python\n",
        "# Initialize with an empty list of features.\n",
        "list_of_best_features = []\n",
        "\n",
        "while round < n_rounds:\n",
        "    round = round + 1\n",
        "    \n",
        "    if no_more_features:\n",
        "        # end loop\n",
        "\n",
        "    # Iterate over currently *unused* features and use $k$-fold \n",
        "    # . `cross_val_score` to measure model \"quality\".\n",
        "    compute_quality_with_each_new_unused_feature(...)\n",
        "\n",
        "    # **Add** the feature that gives the highest \"quality\" of the model.\n",
        "    pick_and_add_the_best_feature(...)\n",
        "\n",
        "    if model_quality_has_increased_since_last_round:\n",
        "        round = 0\n",
        "\n",
        "return list_of_best_features\n",
        "```"
      ]
    },
    {
      "cell_type": "markdown",
      "id": "suffering-italy",
      "metadata": {
        "id": "suffering-italy"
      },
      "source": [
        "**1.3.1) In the cell below, you have to implement a function that would iterate over a list of features and use $k$-fold `cross_val_score` to measure the model's \"quality\".** "
      ]
    },
    {
      "cell_type": "code",
      "execution_count": 67,
      "id": "caroline-state",
      "metadata": {
        "id": "caroline-state"
      },
      "outputs": [],
      "source": [
        "from sklearn.metrics import make_scorer\n",
        "\n",
        "def selection_step(model, X, y, used_features=(), cv=3):\n",
        "    \"\"\"\n",
        "    Parameters\n",
        "    ==========\n",
        "        X: ndarray - training inputs\n",
        "        y: ndarray - training targets\n",
        "        used_features: - list of features\n",
        "        cv: int - number of folds\n",
        "\n",
        "    Returns\n",
        "    =======\n",
        "        scores - dictionary of scores\n",
        "    \"\"\"\n",
        "    \n",
        "    scores = {}\n",
        "    \n",
        "    ### BEGIN Solution\n",
        "\n",
        "    for feature in X.columns:\n",
        "      if feature not in list(used_features):\n",
        "        update_for_search = used_features + [feature]\n",
        "        scores[feature] = cross_val_score(model, X.loc[:, update_for_search], y, cv=cv,\n",
        "            n_jobs=-1, scoring='neg_root_mean_squared_error').mean()\n",
        "\n",
        "    ### END Solution\n",
        "\n",
        "    return scores"
      ]
    },
    {
      "cell_type": "markdown",
      "id": "laughing-patio",
      "metadata": {
        "id": "laughing-patio"
      },
      "source": [
        "**1.3.2) Implement a forward greedy feature selection function (the one described in the pseudocode in subtask 1 above) that would**\n",
        "\n",
        "**- compute the model's \"quality\" over the currently *unused* features**\n",
        "\n",
        "**- find the feature, which has given the best score and add it to the list of the currently *used* features**\n",
        "\n",
        "**- if the model's quality has increased since the last round, add this feature to the list of the best features and  print the best score and the current best features list**\n",
        "\n",
        "**Do not forget to implement the early stopping.**"
      ]
    },
    {
      "cell_type": "code",
      "execution_count": 62,
      "id": "pressed-worse",
      "metadata": {
        "id": "pressed-worse"
      },
      "outputs": [],
      "source": [
        "def forward_steps(X, y, n_rounds, model):\n",
        "    \"\"\"\n",
        "    Parameters\n",
        "    ==========\n",
        "        X: ndarray - training inputs\n",
        "        y: ndarray - training targets\n",
        "        n_rounds: int - early stop when score doesn't increase n_rounds\n",
        "        model: sklearn model\n",
        "\n",
        "    Returns\n",
        "    =======\n",
        "        feat_best_list - list of features\n",
        "    \"\"\"\n",
        "    \n",
        "    feat_best_list = []\n",
        "\n",
        "    ### BEGIN Solution\n",
        "\n",
        "    current_round = 0\n",
        "    highest_quality = -np.inf\n",
        "    \n",
        "    used_features, unused_features = [], X.columns.tolist()\n",
        "\n",
        "    while current_round < n_rounds:\n",
        "        current_round += 1\n",
        "\n",
        "        if len(unused_features) == 0:\n",
        "            break\n",
        "\n",
        "        scores = selection_step(model, X, y, used_features, cv=3)\n",
        "\n",
        "        new_feature = max(scores, key=scores.get)   \n",
        "        new_quality = scores[new_feature]\n",
        "        \n",
        "        used_features.append(new_feature)\n",
        "        unused_features.remove(new_feature)\n",
        "\n",
        "        if new_quality > highest_quality:\n",
        "            feat_best_list.append(new_feature)\n",
        "            highest_quality = new_quality\n",
        "            print(f\"Best score = {highest_quality}\")\n",
        "            print(f'Best feature list: {feat_best_list}')\n",
        "            print()\n",
        "            current_round = 0\n",
        "\n",
        "    ### END Solution\n",
        "    \n",
        "    return feat_best_list\n"
      ]
    },
    {
      "cell_type": "markdown",
      "id": "geographic-holly",
      "metadata": {
        "id": "geographic-holly"
      },
      "source": [
        "**1.3.3) Use the function implemented above + DecisionTreeRegressor to get the best features according to this algorithm. (HINT: Use ```n_rounds = 2```)**"
      ]
    },
    {
      "cell_type": "code",
      "execution_count": 63,
      "id": "hazardous-retirement",
      "metadata": {
        "id": "hazardous-retirement",
        "colab": {
          "base_uri": "https://localhost:8080/"
        },
        "outputId": "f094e1bd-7e0b-4d30-d046-4cce13f1b706"
      },
      "outputs": [
        {
          "output_type": "stream",
          "name": "stdout",
          "text": [
            "Best score = -0.5601098103962895\n",
            "Best feature list: ['16_29_all']\n",
            "\n",
            "Best score = -0.535756393383274\n",
            "Best feature list: ['16_29_all', 'num_room']\n",
            "\n",
            "Best score = -0.5345098509819489\n",
            "Best feature list: ['16_29_all', 'num_room', '16_29_female']\n",
            "\n",
            "Best score = -0.5342548266687915\n",
            "Best feature list: ['16_29_all', 'num_room', '16_29_female', 'cafe_count_500_price_high']\n",
            "\n",
            "Best score = -0.5337602462238822\n",
            "Best feature list: ['16_29_all', 'num_room', '16_29_female', 'cafe_count_500_price_high', 'office_raion']\n",
            "\n",
            "Best score = -0.5333673345934993\n",
            "Best feature list: ['16_29_all', 'num_room', '16_29_female', 'cafe_count_500_price_high', 'office_raion', 'additional_education_raion']\n",
            "\n",
            "Best score = -0.533046544466585\n",
            "Best feature list: ['16_29_all', 'num_room', '16_29_female', 'cafe_count_500_price_high', 'office_raion', 'additional_education_raion', 'shopping_centers_raion']\n",
            "\n",
            "Best score = -0.5329763387706375\n",
            "Best feature list: ['16_29_all', 'num_room', '16_29_female', 'cafe_count_500_price_high', 'office_raion', 'additional_education_raion', 'shopping_centers_raion', 'build_count_foam']\n",
            "\n"
          ]
        }
      ],
      "source": [
        "### BEGIN Solution\n",
        "\n",
        "best_features = forward_steps(x_train, y_train_log, n_rounds=2, model=DecisionTreeRegressor(random_state=5))\n",
        "\n",
        "### END Solution"
      ]
    },
    {
      "cell_type": "markdown",
      "id": "contrary-packet",
      "metadata": {
        "id": "contrary-packet"
      },
      "source": [
        "**1.3.4) Use Linear Regression, Ridge regression, Random forest and DecisionTree to get the RMSLE scores using these features. Remember the function you wrote earlier.**"
      ]
    },
    {
      "cell_type": "code",
      "execution_count": 77,
      "id": "graduate-tooth",
      "metadata": {
        "id": "graduate-tooth",
        "colab": {
          "base_uri": "https://localhost:8080/"
        },
        "outputId": "9e069c2d-6a6c-4647-bd5e-4be916c93acc"
      },
      "outputs": [
        {
          "output_type": "stream",
          "name": "stdout",
          "text": [
            "                       Train Error  Test Error\n",
            "DecisionTreeRegressor     0.000964    0.001056\n",
            "LinearRegression          0.001216    0.001208\n",
            "Ridge                     0.001216    0.001208\n",
            "RandomForestRegressor     0.000966    0.001046\n",
            "Lasso                     0.001358    0.001366\n"
          ]
        }
      ],
      "source": [
        "### BEGIN Solution\n",
        "\n",
        "classifiers = [dectree_clf, linreg_clf, ridgereg_clf, ranfor_clf, lasso_clf]\n",
        "df = pd.DataFrame(columns=('Train Error', 'Test Error'))\n",
        "\n",
        "for clf in classifiers:\n",
        "    train_error, test_error = comparison_function(clf, (x_train[best_features], y_train_log), (x_test[best_features], y_test_log))\n",
        "    values_to_add = {'Train Error': train_error, 'Test Error': test_error}\n",
        "    row_to_add = pd.Series(values_to_add, name=type(clf).__name__)\n",
        "    df = df.append(row_to_add)\n",
        " \n",
        "print(df)\n",
        "\n",
        "### END Solution"
      ]
    },
    {
      "cell_type": "markdown",
      "id": "infinite-navigation",
      "metadata": {
        "id": "infinite-navigation"
      },
      "source": [
        "<br>"
      ]
    },
    {
      "cell_type": "markdown",
      "id": "individual-rendering",
      "metadata": {
        "id": "individual-rendering"
      },
      "source": [
        "## Task 2. Multi-Class Classification Strategies (1 point)\n",
        "In this task, you will deal with the multiclass classification problem for the Glass Classification Data. Let's load the dataset."
      ]
    },
    {
      "cell_type": "code",
      "execution_count": 78,
      "id": "technical-trader",
      "metadata": {
        "colab": {
          "base_uri": "https://localhost:8080/",
          "height": 144
        },
        "id": "technical-trader",
        "outputId": "095da50b-07c7-4121-82f4-1a2196761472"
      },
      "outputs": [
        {
          "output_type": "execute_result",
          "data": {
            "text/html": [
              "\n",
              "  <div id=\"df-66b5187b-3830-4efe-a68b-c3928b58edc6\">\n",
              "    <div class=\"colab-df-container\">\n",
              "      <div>\n",
              "<style scoped>\n",
              "    .dataframe tbody tr th:only-of-type {\n",
              "        vertical-align: middle;\n",
              "    }\n",
              "\n",
              "    .dataframe tbody tr th {\n",
              "        vertical-align: top;\n",
              "    }\n",
              "\n",
              "    .dataframe thead th {\n",
              "        text-align: right;\n",
              "    }\n",
              "</style>\n",
              "<table border=\"1\" class=\"dataframe\">\n",
              "  <thead>\n",
              "    <tr style=\"text-align: right;\">\n",
              "      <th></th>\n",
              "      <th>RI</th>\n",
              "      <th>Na</th>\n",
              "      <th>Mg</th>\n",
              "      <th>Al</th>\n",
              "      <th>Si</th>\n",
              "      <th>K</th>\n",
              "      <th>Ca</th>\n",
              "      <th>Ba</th>\n",
              "      <th>Fe</th>\n",
              "      <th>Type</th>\n",
              "    </tr>\n",
              "  </thead>\n",
              "  <tbody>\n",
              "    <tr>\n",
              "      <th>24</th>\n",
              "      <td>1.51720</td>\n",
              "      <td>13.38</td>\n",
              "      <td>3.50</td>\n",
              "      <td>1.15</td>\n",
              "      <td>72.85</td>\n",
              "      <td>0.5</td>\n",
              "      <td>8.43</td>\n",
              "      <td>0.00</td>\n",
              "      <td>0.00</td>\n",
              "      <td>1</td>\n",
              "    </tr>\n",
              "    <tr>\n",
              "      <th>208</th>\n",
              "      <td>1.51640</td>\n",
              "      <td>14.37</td>\n",
              "      <td>0.00</td>\n",
              "      <td>2.74</td>\n",
              "      <td>72.85</td>\n",
              "      <td>0.0</td>\n",
              "      <td>9.45</td>\n",
              "      <td>0.54</td>\n",
              "      <td>0.00</td>\n",
              "      <td>7</td>\n",
              "    </tr>\n",
              "    <tr>\n",
              "      <th>150</th>\n",
              "      <td>1.51665</td>\n",
              "      <td>13.14</td>\n",
              "      <td>3.45</td>\n",
              "      <td>1.76</td>\n",
              "      <td>72.48</td>\n",
              "      <td>0.6</td>\n",
              "      <td>8.38</td>\n",
              "      <td>0.00</td>\n",
              "      <td>0.17</td>\n",
              "      <td>3</td>\n",
              "    </tr>\n",
              "  </tbody>\n",
              "</table>\n",
              "</div>\n",
              "      <button class=\"colab-df-convert\" onclick=\"convertToInteractive('df-66b5187b-3830-4efe-a68b-c3928b58edc6')\"\n",
              "              title=\"Convert this dataframe to an interactive table.\"\n",
              "              style=\"display:none;\">\n",
              "        \n",
              "  <svg xmlns=\"http://www.w3.org/2000/svg\" height=\"24px\"viewBox=\"0 0 24 24\"\n",
              "       width=\"24px\">\n",
              "    <path d=\"M0 0h24v24H0V0z\" fill=\"none\"/>\n",
              "    <path d=\"M18.56 5.44l.94 2.06.94-2.06 2.06-.94-2.06-.94-.94-2.06-.94 2.06-2.06.94zm-11 1L8.5 8.5l.94-2.06 2.06-.94-2.06-.94L8.5 2.5l-.94 2.06-2.06.94zm10 10l.94 2.06.94-2.06 2.06-.94-2.06-.94-.94-2.06-.94 2.06-2.06.94z\"/><path d=\"M17.41 7.96l-1.37-1.37c-.4-.4-.92-.59-1.43-.59-.52 0-1.04.2-1.43.59L10.3 9.45l-7.72 7.72c-.78.78-.78 2.05 0 2.83L4 21.41c.39.39.9.59 1.41.59.51 0 1.02-.2 1.41-.59l7.78-7.78 2.81-2.81c.8-.78.8-2.07 0-2.86zM5.41 20L4 18.59l7.72-7.72 1.47 1.35L5.41 20z\"/>\n",
              "  </svg>\n",
              "      </button>\n",
              "      \n",
              "  <style>\n",
              "    .colab-df-container {\n",
              "      display:flex;\n",
              "      flex-wrap:wrap;\n",
              "      gap: 12px;\n",
              "    }\n",
              "\n",
              "    .colab-df-convert {\n",
              "      background-color: #E8F0FE;\n",
              "      border: none;\n",
              "      border-radius: 50%;\n",
              "      cursor: pointer;\n",
              "      display: none;\n",
              "      fill: #1967D2;\n",
              "      height: 32px;\n",
              "      padding: 0 0 0 0;\n",
              "      width: 32px;\n",
              "    }\n",
              "\n",
              "    .colab-df-convert:hover {\n",
              "      background-color: #E2EBFA;\n",
              "      box-shadow: 0px 1px 2px rgba(60, 64, 67, 0.3), 0px 1px 3px 1px rgba(60, 64, 67, 0.15);\n",
              "      fill: #174EA6;\n",
              "    }\n",
              "\n",
              "    [theme=dark] .colab-df-convert {\n",
              "      background-color: #3B4455;\n",
              "      fill: #D2E3FC;\n",
              "    }\n",
              "\n",
              "    [theme=dark] .colab-df-convert:hover {\n",
              "      background-color: #434B5C;\n",
              "      box-shadow: 0px 1px 3px 1px rgba(0, 0, 0, 0.15);\n",
              "      filter: drop-shadow(0px 1px 2px rgba(0, 0, 0, 0.3));\n",
              "      fill: #FFFFFF;\n",
              "    }\n",
              "  </style>\n",
              "\n",
              "      <script>\n",
              "        const buttonEl =\n",
              "          document.querySelector('#df-66b5187b-3830-4efe-a68b-c3928b58edc6 button.colab-df-convert');\n",
              "        buttonEl.style.display =\n",
              "          google.colab.kernel.accessAllowed ? 'block' : 'none';\n",
              "\n",
              "        async function convertToInteractive(key) {\n",
              "          const element = document.querySelector('#df-66b5187b-3830-4efe-a68b-c3928b58edc6');\n",
              "          const dataTable =\n",
              "            await google.colab.kernel.invokeFunction('convertToInteractive',\n",
              "                                                     [key], {});\n",
              "          if (!dataTable) return;\n",
              "\n",
              "          const docLinkHtml = 'Like what you see? Visit the ' +\n",
              "            '<a target=\"_blank\" href=https://colab.research.google.com/notebooks/data_table.ipynb>data table notebook</a>'\n",
              "            + ' to learn more about interactive tables.';\n",
              "          element.innerHTML = '';\n",
              "          dataTable['output_type'] = 'display_data';\n",
              "          await google.colab.output.renderOutput(dataTable, element);\n",
              "          const docLink = document.createElement('div');\n",
              "          docLink.innerHTML = docLinkHtml;\n",
              "          element.appendChild(docLink);\n",
              "        }\n",
              "      </script>\n",
              "    </div>\n",
              "  </div>\n",
              "  "
            ],
            "text/plain": [
              "          RI     Na    Mg    Al     Si    K    Ca    Ba    Fe  Type\n",
              "24   1.51720  13.38  3.50  1.15  72.85  0.5  8.43  0.00  0.00     1\n",
              "208  1.51640  14.37  0.00  2.74  72.85  0.0  9.45  0.54  0.00     7\n",
              "150  1.51665  13.14  3.45  1.76  72.48  0.6  8.38  0.00  0.17     3"
            ]
          },
          "metadata": {},
          "execution_count": 78
        }
      ],
      "source": [
        "data = pd.read_csv('glass.csv')\n",
        "X, y = data.drop('Type', axis=1), data.Type\n",
        "data.sample(3)"
      ]
    },
    {
      "cell_type": "markdown",
      "id": "flying-region",
      "metadata": {
        "id": "flying-region"
      },
      "source": [
        "The features of each glass object correspond to the fraction of the particular chemical element in the object. The target variable corresponds to the type of glass (6 classes).\n",
        "\n",
        "In this problem, you have to empirically compare the time complexity and performance of several multiclass labeling strategies for different algorithms. You must consider the following algorithms:\n",
        "* Single Decision Tree (depth 7)\n",
        "* Medium Random Forest (100 trees of depth 3)\n",
        "* KNearestNeighbors (5 neighbors)\n",
        "* Logistic Regression\n",
        "\n",
        "Note that all these algorithms by default support **multiclass labeling**. Nevertheless, we want you to compare this approach with **OneVSRest** and **OneVSOne** approaches applied to these algorithms. More precisely, for every pair (algorithm, approach) you are to perform a 5-fold cross-validation on the data and output the validation score and the computation time in the **table** form. Please note that you also have to choose the metric to optimize during CV (e.g. accuracy, balanced accuracy) on your own. \n",
        "\n",
        "After that, you are to answer the following questions:\n",
        "* Which metric did you choose to optimize during cross-validation and why? Explain\n",
        "* For which algorithms the usage of OneVSRest/OneVSOne approach provides significantly better performance without a significant increase in computation time?"
      ]
    },
    {
      "cell_type": "code",
      "execution_count": 79,
      "id": "authentic-slope",
      "metadata": {
        "id": "authentic-slope",
        "colab": {
          "base_uri": "https://localhost:8080/"
        },
        "outputId": "9a2b90ff-29c5-4db9-a4cc-d6b0278074e9"
      },
      "outputs": [
        {
          "output_type": "stream",
          "name": "stdout",
          "text": [
            "________________________________________________________\n",
            "With scoring None\n",
            "appr.                  MultiClass Labeling           OneVSRest            \\\n",
            "perf.                                score      time     score      time   \n",
            "DecisionTreeClassifier            0.579402  0.026289  0.551495  0.130005   \n",
            "RandomForestClassifier            0.612292  0.858010  0.617054  4.872781   \n",
            "KNeighborsClassifier              0.612625  0.935357  0.621927  0.380686   \n",
            "LogisticRegression                0.584164  0.178937  0.556257  0.742101   \n",
            "\n",
            "appr.                   OneVSOne             \n",
            "perf.                      score       time  \n",
            "DecisionTreeClassifier  0.588926   0.120473  \n",
            "RandomForestClassifier  0.621816  11.918030  \n",
            "KNeighborsClassifier    0.621927   1.465129  \n",
            "LogisticRegression      0.570543   1.594370  \n",
            "________________________________________________________\n",
            "________________________________________________________\n",
            "With scoring accuracy\n",
            "appr.                  MultiClass Labeling           OneVSRest            \\\n",
            "perf.                                score      time     score      time   \n",
            "DecisionTreeClassifier            0.579402  0.025494  0.551495  0.132786   \n",
            "RandomForestClassifier            0.579734  0.820343  0.626467  4.825371   \n",
            "KNeighborsClassifier              0.612625  0.081921  0.621927  0.380595   \n",
            "LogisticRegression                0.584164  0.172754  0.556257  0.648462   \n",
            "\n",
            "appr.                   OneVSOne             \n",
            "perf.                      score       time  \n",
            "DecisionTreeClassifier  0.588926   0.130721  \n",
            "RandomForestClassifier  0.617165  12.064331  \n",
            "KNeighborsClassifier    0.621927   1.469705  \n",
            "LogisticRegression      0.570543   1.631051  \n",
            "________________________________________________________\n",
            "________________________________________________________\n",
            "With scoring balanced_accuracy\n",
            "appr.                  MultiClass Labeling           OneVSRest            \\\n",
            "perf.                                score      time     score      time   \n",
            "DecisionTreeClassifier            0.546865  0.030381  0.551567  0.128902   \n",
            "RandomForestClassifier            0.459187  0.852799  0.544921  4.804793   \n",
            "KNeighborsClassifier              0.551071  0.082822  0.575159  0.369177   \n",
            "LogisticRegression                0.445040  0.176253  0.385298  0.782779   \n",
            "\n",
            "appr.                   OneVSOne             \n",
            "perf.                      score       time  \n",
            "DecisionTreeClassifier  0.652163   0.130583  \n",
            "RandomForestClassifier  0.624762  11.743386  \n",
            "KNeighborsClassifier    0.554921   1.438153  \n",
            "LogisticRegression      0.436925   1.631693  \n",
            "________________________________________________________\n",
            "________________________________________________________\n",
            "With scoring f1_macro\n",
            "appr.                  MultiClass Labeling           OneVSRest            \\\n",
            "perf.                                score      time     score      time   \n",
            "DecisionTreeClassifier            0.521169  0.032876  0.514854  0.132980   \n",
            "RandomForestClassifier            0.431090  0.833457  0.565131  4.826297   \n",
            "KNeighborsClassifier              0.516398  0.078422  0.535505  0.370331   \n",
            "LogisticRegression                0.408289  0.189217  0.333318  0.653408   \n",
            "\n",
            "appr.                   OneVSOne             \n",
            "perf.                      score       time  \n",
            "DecisionTreeClassifier  0.583183   0.135278  \n",
            "RandomForestClassifier  0.565631  11.699506  \n",
            "KNeighborsClassifier    0.522427   1.455939  \n",
            "LogisticRegression      0.405213   1.685663  \n",
            "________________________________________________________\n",
            "________________________________________________________\n",
            "With scoring f1_micro\n",
            "appr.                  MultiClass Labeling           OneVSRest            \\\n",
            "perf.                                score      time     score      time   \n",
            "DecisionTreeClassifier            0.579402  0.029775  0.551495  0.128818   \n",
            "RandomForestClassifier            0.616944  0.825058  0.612514  4.859180   \n",
            "KNeighborsClassifier              0.612625  0.078835  0.621927  0.393891   \n",
            "LogisticRegression                0.584164  0.179126  0.556257  0.782217   \n",
            "\n",
            "appr.                   OneVSOne             \n",
            "perf.                      score       time  \n",
            "DecisionTreeClassifier  0.588926   0.127319  \n",
            "RandomForestClassifier  0.631008  11.718924  \n",
            "KNeighborsClassifier    0.621927   1.430589  \n",
            "LogisticRegression      0.570543   1.602660  \n",
            "________________________________________________________\n",
            "________________________________________________________\n",
            "With scoring f1_weighted\n",
            "appr.                  MultiClass Labeling           OneVSRest            \\\n",
            "perf.                                score      time     score      time   \n",
            "DecisionTreeClassifier            0.557995  0.034342  0.527815  0.133526   \n",
            "RandomForestClassifier            0.539470  0.832078  0.582378  4.816669   \n",
            "KNeighborsClassifier              0.577174  0.080278  0.595097  0.386005   \n",
            "LogisticRegression                0.524475  0.197828  0.497738  0.835032   \n",
            "\n",
            "appr.                   OneVSOne             \n",
            "perf.                      score       time  \n",
            "DecisionTreeClassifier  0.582246   0.130272  \n",
            "RandomForestClassifier  0.563457  11.845568  \n",
            "KNeighborsClassifier    0.591219   1.531091  \n",
            "LogisticRegression      0.515765   1.581438  \n",
            "________________________________________________________\n",
            "________________________________________________________\n",
            "With scoring mutual_info_score\n",
            "appr.                  MultiClass Labeling           OneVSRest            \\\n",
            "perf.                                score      time     score      time   \n",
            "DecisionTreeClassifier            0.690682  0.044894  0.621673  0.142695   \n",
            "RandomForestClassifier            0.621616  0.840356  0.731830  4.883572   \n",
            "KNeighborsClassifier              0.700745  0.086608  0.745424  0.396540   \n",
            "LogisticRegression                0.584753  0.186952  0.555618  0.717084   \n",
            "\n",
            "appr.                   OneVSOne             \n",
            "perf.                      score       time  \n",
            "DecisionTreeClassifier  0.731776   0.131339  \n",
            "RandomForestClassifier  0.719819  11.791444  \n",
            "KNeighborsClassifier    0.710198   1.497987  \n",
            "LogisticRegression      0.576963   1.839260  \n",
            "________________________________________________________\n",
            "________________________________________________________\n",
            "With scoring neg_mean_absolute_error\n",
            "appr.                  MultiClass Labeling           OneVSRest            \\\n",
            "perf.                                score      time     score      time   \n",
            "DecisionTreeClassifier           -0.822370  0.027735 -1.084164  0.132569   \n",
            "RandomForestClassifier           -0.779956  0.863377 -0.644075  4.864095   \n",
            "KNeighborsClassifier             -0.769657  0.087168 -0.732558  0.388343   \n",
            "LogisticRegression               -0.737652  0.196022 -0.812071  0.885482   \n",
            "\n",
            "appr.                   OneVSOne             \n",
            "perf.                      score       time  \n",
            "DecisionTreeClassifier -0.840532   0.132137  \n",
            "RandomForestClassifier -0.704651  12.213178  \n",
            "KNeighborsClassifier   -0.783721   1.562723  \n",
            "LogisticRegression     -0.774529   1.576679  \n",
            "________________________________________________________\n",
            "________________________________________________________\n",
            "With scoring neg_mean_poisson_deviance\n",
            "appr.                  MultiClass Labeling           OneVSRest            \\\n",
            "perf.                                score      time     score      time   \n",
            "DecisionTreeClassifier           -0.932193  0.028661 -1.109187  0.128779   \n",
            "RandomForestClassifier           -0.867817  0.811983 -0.640428  4.901624   \n",
            "KNeighborsClassifier             -0.818290  0.079248 -0.674891  0.394938   \n",
            "LogisticRegression               -0.674054  0.178653 -0.786023  0.881337   \n",
            "\n",
            "appr.                   OneVSOne             \n",
            "perf.                      score       time  \n",
            "DecisionTreeClassifier -0.830201   0.130278  \n",
            "RandomForestClassifier -0.671631  12.033086  \n",
            "KNeighborsClassifier   -0.885481   1.501366  \n",
            "LogisticRegression     -0.718642   1.618274  \n",
            "________________________________________________________\n",
            "________________________________________________________\n",
            "With scoring neg_mean_squared_error\n",
            "appr.                  MultiClass Labeling           OneVSRest            \\\n",
            "perf.                                score      time     score      time   \n",
            "DecisionTreeClassifier           -2.532890  0.027586 -3.925803  0.133840   \n",
            "RandomForestClassifier           -2.292027  0.847947 -1.866224  4.816617   \n",
            "KNeighborsClassifier             -2.176966  0.078556 -1.926135  0.390121   \n",
            "LogisticRegression               -1.809856  0.172950 -2.079623  0.804212   \n",
            "\n",
            "appr.                   OneVSOne             \n",
            "perf.                      score       time  \n",
            "DecisionTreeClassifier -2.435659   0.141187  \n",
            "RandomForestClassifier -1.995460  11.789056  \n",
            "KNeighborsClassifier   -2.312182   1.539710  \n",
            "LogisticRegression     -1.967663   1.529513  \n",
            "________________________________________________________\n",
            "________________________________________________________\n",
            "With scoring neg_root_mean_squared_error\n",
            "appr.                  MultiClass Labeling           OneVSRest            \\\n",
            "perf.                                score      time     score      time   \n",
            "DecisionTreeClassifier           -1.557857  0.028620 -1.963581  0.126046   \n",
            "RandomForestClassifier           -1.433274  0.828026 -1.298299  4.829464   \n",
            "KNeighborsClassifier             -1.427469  0.085707 -1.333260  0.411556   \n",
            "LogisticRegression               -1.307013  0.176825 -1.391133  0.896564   \n",
            "\n",
            "appr.                   OneVSOne             \n",
            "perf.                      score       time  \n",
            "DecisionTreeClassifier -1.505165   0.137890  \n",
            "RandomForestClassifier -1.323102  11.958956  \n",
            "KNeighborsClassifier   -1.483817   1.586751  \n",
            "LogisticRegression     -1.335608   1.767136  \n",
            "________________________________________________________\n",
            "________________________________________________________\n",
            "With scoring precision_macro\n",
            "appr.                  MultiClass Labeling           OneVSRest            \\\n",
            "perf.                                score      time     score      time   \n",
            "DecisionTreeClassifier            0.556498  0.033419  0.540828  0.147887   \n",
            "RandomForestClassifier            0.467213  0.838540  0.548590  4.916185   \n",
            "KNeighborsClassifier              0.561000  0.084825  0.557488  0.419399   \n",
            "LogisticRegression                0.430337  0.189430  0.319856  0.772097   \n",
            "\n",
            "appr.                   OneVSOne             \n",
            "perf.                      score       time  \n",
            "DecisionTreeClassifier  0.616087   0.132009  \n",
            "RandomForestClassifier  0.532813  12.246552  \n",
            "KNeighborsClassifier    0.568510   1.559880  \n",
            "LogisticRegression      0.434394   1.760038  \n",
            "________________________________________________________\n",
            "________________________________________________________\n",
            "With scoring precision_micro\n",
            "appr.                  MultiClass Labeling           OneVSRest            \\\n",
            "perf.                                score      time     score      time   \n",
            "DecisionTreeClassifier            0.579402  0.034003  0.551495  0.136539   \n",
            "RandomForestClassifier            0.593798  0.879923  0.631118  5.066400   \n",
            "KNeighborsClassifier              0.612625  0.077621  0.621927  0.421535   \n",
            "LogisticRegression                0.584164  0.191539  0.556257  0.988368   \n",
            "\n",
            "appr.                   OneVSOne             \n",
            "perf.                      score       time  \n",
            "DecisionTreeClassifier  0.588926   0.139132  \n",
            "RandomForestClassifier  0.621816  12.441893  \n",
            "KNeighborsClassifier    0.621927   1.592738  \n",
            "LogisticRegression      0.570543   1.898441  \n",
            "________________________________________________________\n",
            "________________________________________________________\n",
            "With scoring rand_score\n",
            "appr.                  MultiClass Labeling           OneVSRest            \\\n",
            "perf.                                score      time     score      time   \n",
            "DecisionTreeClassifier            0.705313  0.037730  0.697080  0.154032   \n",
            "RandomForestClassifier            0.667110  0.854412  0.711406  4.934121   \n",
            "KNeighborsClassifier              0.711541  0.082589  0.728061  0.413428   \n",
            "LogisticRegression                0.679000  0.198483  0.678864  0.735696   \n",
            "\n",
            "appr.                   OneVSOne             \n",
            "perf.                      score       time  \n",
            "DecisionTreeClassifier  0.727618   0.151103  \n",
            "RandomForestClassifier  0.704616  12.052552  \n",
            "KNeighborsClassifier    0.714550   1.564745  \n",
            "LogisticRegression      0.676666   1.785655  \n",
            "________________________________________________________\n",
            "________________________________________________________\n",
            "With scoring recall_macro\n",
            "appr.                  MultiClass Labeling           OneVSRest            \\\n",
            "perf.                                score      time     score      time   \n",
            "DecisionTreeClassifier            0.546865  0.029409  0.551567  0.132411   \n",
            "RandomForestClassifier            0.458393  0.836478  0.560635  4.925451   \n",
            "KNeighborsClassifier              0.551071  0.079618  0.575159  0.404601   \n",
            "LogisticRegression                0.445040  0.188758  0.385298  0.815067   \n",
            "\n",
            "appr.                   OneVSOne             \n",
            "perf.                      score       time  \n",
            "DecisionTreeClassifier  0.652163   0.130023  \n",
            "RandomForestClassifier  0.584444  12.242023  \n",
            "KNeighborsClassifier    0.554921   1.637272  \n",
            "LogisticRegression      0.436925   1.668846  \n",
            "________________________________________________________\n",
            "________________________________________________________\n",
            "With scoring recall_micro\n",
            "appr.                  MultiClass Labeling           OneVSRest            \\\n",
            "perf.                                score      time     score      time   \n",
            "DecisionTreeClassifier            0.579402  0.032437  0.551495  0.144645   \n",
            "RandomForestClassifier            0.598339  0.811934  0.621816  4.836844   \n",
            "KNeighborsClassifier              0.612625  0.079758  0.621927  0.380002   \n",
            "LogisticRegression                0.584164  0.175221  0.556257  0.777102   \n",
            "\n",
            "appr.                   OneVSOne             \n",
            "perf.                      score       time  \n",
            "DecisionTreeClassifier  0.588926   0.136576  \n",
            "RandomForestClassifier  0.631118  11.883390  \n",
            "KNeighborsClassifier    0.621927   1.538698  \n",
            "LogisticRegression      0.570543   1.509881  \n",
            "________________________________________________________\n",
            "________________________________________________________\n",
            "With scoring recall_weighted\n",
            "appr.                  MultiClass Labeling           OneVSRest            \\\n",
            "perf.                                score      time     score      time   \n",
            "DecisionTreeClassifier            0.579402  0.032415  0.551495  0.135107   \n",
            "RandomForestClassifier            0.589037  0.810440  0.617165  4.868730   \n",
            "KNeighborsClassifier              0.612625  0.077880  0.621927  0.392853   \n",
            "LogisticRegression                0.584164  0.192115  0.556257  0.807299   \n",
            "\n",
            "appr.                   OneVSOne             \n",
            "perf.                      score       time  \n",
            "DecisionTreeClassifier  0.588926   0.130139  \n",
            "RandomForestClassifier  0.626467  11.745745  \n",
            "KNeighborsClassifier    0.621927   1.514038  \n",
            "LogisticRegression      0.570543   1.470181  \n",
            "________________________________________________________\n",
            "________________________________________________________\n",
            "With scoring roc_auc_ovo\n",
            "appr.                  MultiClass Labeling           OneVSRest            \\\n",
            "perf.                                score      time     score      time   \n",
            "DecisionTreeClassifier            0.736120  0.094481       NaN  0.151589   \n",
            "RandomForestClassifier            0.904119  0.885983  0.898117  4.855448   \n",
            "KNeighborsClassifier              0.859036  0.154523  0.859036  0.454528   \n",
            "LogisticRegression                0.847730  0.249340  0.838003  0.861267   \n",
            "\n",
            "appr.                  OneVSOne            \n",
            "perf.                     score      time  \n",
            "DecisionTreeClassifier      NaN  0.096735  \n",
            "RandomForestClassifier      NaN  9.851782  \n",
            "KNeighborsClassifier        NaN  0.074535  \n",
            "LogisticRegression          NaN  1.471969  \n",
            "________________________________________________________\n",
            "________________________________________________________\n",
            "With scoring roc_auc_ovo_weighted\n",
            "appr.                  MultiClass Labeling           OneVSRest            \\\n",
            "perf.                                score      time     score      time   \n",
            "DecisionTreeClassifier            0.723755  0.095560       NaN  0.148073   \n",
            "RandomForestClassifier            0.871708  0.898024  0.880795  4.815078   \n",
            "KNeighborsClassifier              0.843803  0.144510  0.843803  0.452889   \n",
            "LogisticRegression                0.819711  0.254976  0.806573  0.829429   \n",
            "\n",
            "appr.                  OneVSOne            \n",
            "perf.                     score      time  \n",
            "DecisionTreeClassifier      NaN  0.094896  \n",
            "RandomForestClassifier      NaN  9.854170  \n",
            "KNeighborsClassifier        NaN  0.085643  \n",
            "LogisticRegression          NaN  1.488136  \n",
            "________________________________________________________\n",
            "________________________________________________________\n",
            "With scoring roc_auc_ovr\n",
            "appr.                  MultiClass Labeling           OneVSRest            \\\n",
            "perf.                                score      time     score      time   \n",
            "DecisionTreeClassifier            0.724303  0.053935       NaN  0.135121   \n",
            "RandomForestClassifier            0.893569  0.829238  0.893733  4.821241   \n",
            "KNeighborsClassifier              0.855549  0.086214  0.855549  0.392602   \n",
            "LogisticRegression                0.840684  0.210987  0.829075  0.691984   \n",
            "\n",
            "appr.                  OneVSOne            \n",
            "perf.                     score      time  \n",
            "DecisionTreeClassifier      NaN  0.098627  \n",
            "RandomForestClassifier      NaN  9.837584  \n",
            "KNeighborsClassifier        NaN  0.074845  \n",
            "LogisticRegression          NaN  1.686826  \n",
            "________________________________________________________\n",
            "________________________________________________________\n",
            "With scoring roc_auc_ovr_weighted\n",
            "appr.                  MultiClass Labeling           OneVSRest            \\\n",
            "perf.                                score      time     score      time   \n",
            "DecisionTreeClassifier            0.706710  0.047158       NaN  0.131208   \n",
            "RandomForestClassifier            0.833450  0.825921  0.850000  4.798394   \n",
            "KNeighborsClassifier              0.828614  0.094034  0.828614  0.420934   \n",
            "LogisticRegression                0.781563  0.193845  0.767787  0.715059   \n",
            "\n",
            "appr.                  OneVSOne             \n",
            "perf.                     score       time  \n",
            "DecisionTreeClassifier      NaN   0.102645  \n",
            "RandomForestClassifier      NaN  10.057677  \n",
            "KNeighborsClassifier        NaN   0.074182  \n",
            "LogisticRegression          NaN   1.505477  \n",
            "________________________________________________________\n"
          ]
        }
      ],
      "source": [
        "### BEGIN Solution (do not delete this comment)\n",
        "\n",
        "import time\n",
        "\n",
        "from sklearn.tree import DecisionTreeClassifier\n",
        "from sklearn.ensemble import RandomForestClassifier\n",
        "from sklearn.neighbors import KNeighborsClassifier\n",
        "from sklearn.linear_model import LogisticRegression\n",
        "from sklearn.multiclass import OneVsRestClassifier, OneVsOneClassifier\n",
        "\n",
        "clfs = [\n",
        "        DecisionTreeClassifier(random_state = 5, max_depth=7),\n",
        "        RandomForestClassifier(n_estimators=100, max_depth=3),\n",
        "        KNeighborsClassifier(n_neighbors=5, n_jobs=-1),\n",
        "        LogisticRegression(random_state=5)\n",
        "]\n",
        "\n",
        "scorings = [None, 'accuracy',\n",
        " 'balanced_accuracy',\n",
        " 'f1_macro',\n",
        " 'f1_micro',\n",
        " 'f1_weighted',\n",
        " 'mutual_info_score',\n",
        " 'neg_mean_absolute_error',\n",
        " 'neg_mean_poisson_deviance',\n",
        " 'neg_mean_squared_error',\n",
        " 'neg_root_mean_squared_error',\n",
        " 'precision_macro',\n",
        " 'precision_micro',\n",
        " 'rand_score',\n",
        " 'recall_macro',\n",
        " 'recall_micro',\n",
        " 'recall_weighted',\n",
        " ]\n",
        "\n",
        "\n",
        "for scoring in scorings:\n",
        "    print('________________________________________________________')\n",
        "    perfomances = []\n",
        "    times = []\n",
        "\n",
        "    header = pd.MultiIndex.from_product([['MultiClass Labeling','OneVSRest', 'OneVSOne'],\n",
        "                                        ['score', 'time']],\n",
        "                                        names=['appr.','perf.'])\n",
        "    data = []\n",
        "\n",
        "    for clf in clfs:\n",
        "        new_row = []\n",
        "        \n",
        "        start = time.time()\n",
        "        score = cross_val_score(clf,X,y, cv = 5, scoring=scoring).mean()\n",
        "        end = time.time()\n",
        "        t = end-start\n",
        "        \n",
        "        new_row.append(score)\n",
        "        new_row.append(t)\n",
        "        \n",
        "        start = time.time()\n",
        "        new_clf = OneVsRestClassifier(clf)\n",
        "        score = cross_val_score(new_clf,X,y, cv = 5, scoring=scoring).mean()\n",
        "        end = time.time()\n",
        "        t = end-start\n",
        "        \n",
        "        new_row.append(score)\n",
        "        new_row.append(t)\n",
        "        \n",
        "        start = time.time()\n",
        "        new_clf = OneVsOneClassifier(clf)\n",
        "        score = cross_val_score(new_clf,X,y, cv = 5, scoring=scoring).mean()\n",
        "        end = time.time()\n",
        "        t = end-start\n",
        "        \n",
        "        new_row.append(score)\n",
        "        new_row.append(t)\n",
        "\n",
        "        data.append(new_row)\n",
        "\n",
        "    print(f'With scoring {scoring}')\n",
        "    df = pd.DataFrame(data,\n",
        "                    index=[type(clf).__name__ for clf in clfs], \n",
        "                    columns=header)\n",
        "\n",
        "    print(df)\n",
        "    print('________________________________________________________')\n",
        "\n",
        "### END Solution (do not delete this comment)"
      ]
    },
    {
      "cell_type": "markdown",
      "id": "married-preserve",
      "metadata": {
        "id": "married-preserve"
      },
      "source": [
        "**Which metric did you choose to optimize during cross validation and why? Explain**"
      ]
    },
    {
      "cell_type": "markdown",
      "id": "dutch-alfred",
      "metadata": {
        "id": "dutch-alfred"
      },
      "source": [
        "**Your text answer (do not delete this comment)**:\n",
        "\n",
        "\n",
        "\n",
        "I have decided to experiment with all metrics from **sorted(sklearn.metrics.SCORERS.keys())** and look at their perfomance. Most of the metrics do not show better results in scores compared with default scoring. I chose to use *accuracy, balanced_accuracy, f1_macro, f1_micro, f1_weighted, mutual_info_score, neg_mean_absolute_error, neg_mean_poisson_deviance, neg_mean_squared_error, neg_root_mean_squared_error, precision_macro, precision_micro, rand_score, recall_macro, recall_micro, recall_weighted* scorings to optmize the results suring cross validation. In my opinion, balanced accuracy can be used for optimization due to its ability to work with imbalanced data. F1 metrics can help us "
      ]
    },
    {
      "cell_type": "markdown",
      "id": "elect-jerusalem",
      "metadata": {
        "id": "elect-jerusalem"
      },
      "source": [
        "**For which algorithms the usage of OneVSRest/OneVSOne approach provides significantly better performance without a significant increase in computation time?**"
      ]
    },
    {
      "cell_type": "markdown",
      "id": "CH04Ord57RS4",
      "metadata": {
        "id": "CH04Ord57RS4"
      },
      "source": [
        "**Your text answer (do not delete this comment)**:\n",
        "\n",
        "DecisionTreeClassifier, because it (for example, with scoring='balanced accuracy') provides significantly better perfomance without a significant increase in computation time."
      ]
    },
    {
      "cell_type": "markdown",
      "id": "electric-matthew",
      "metadata": {
        "id": "electric-matthew"
      },
      "source": [
        "# Task 3. Stacking (2 points)"
      ]
    },
    {
      "cell_type": "markdown",
      "id": "third-liverpool",
      "metadata": {
        "id": "third-liverpool"
      },
      "source": [
        "Stacking is an ensembling approach, which combines several algorithms (base models) to get better results. This is achieved by **a)** training the base models (any ML models) on the initial train data (or parts of the train data, see the paragraph below), **b)** training the meta-model (also an ML model) on the predictions of those base models.\n",
        "\n",
        "One of the main problems of stacking is overfitting. To avoid it, when evaluating the performance of the meta-model on the train set, the training data is divided into $ n $ folds, $ (n-1) $ of which are used for training the base models. The $ n $ -th fold is used for the overall prediction (calculating the meta-factor) in the following manner: the predictions on the $ n $ -th fold are made by the base models (already trained on the rest of the dataset), then these predictions on the $ n $ -th fold are fed as inputs to the meta-model.\n",
        "\n",
        "When evaluating the performance of the meta-model on the test set, there can be used various approaches$.^{[1]}$ For example, in order, to obtain meta-factors for the test data, the base classifiers can be retrained on the entire training set, since the problem of overfitting does not arise here. In other words, if we want to calculate the factors for the test set, we can safely use the training set to train the base classifiers (once again, as it is said in the paragraph above, if we want to calculate factors for the training set, then it is necessary to ensure that the classifier does not predict for those objects on which it has been trained).  \n",
        "\n",
        "You can read more details about stacking [blockpost](https://blog.statsbot.co/ensemble-learning-d1dcd548e936), [kaggle ensemble guide](https://mlwave.com/kaggle-ensembling-guide/).\n",
        "\n",
        "P.S. Stacking and Blending are two similar approaches to combining classifiers (ensembling). The difference is that Stacking uses out-of-fold predictions for the train set, and Blending uses a validation set to train the next layer ([source](quora.com/What-are-examples-of-blending-and-stacking-in-Machine-Learning)). Because they are so similar you can use any of them. \n",
        "\n",
        "[1] http://www.machinelearning.ru/wiki/images/5/56/Guschin2015Stacking.pdf  "
      ]
    },
    {
      "cell_type": "markdown",
      "id": "recognized-guest",
      "metadata": {
        "id": "recognized-guest"
      },
      "source": [
        "**Your task will be:**\n",
        "\n",
        "* Complete the ```meta_classfier``` function\n",
        "* Choose 6 different base models (base models can be any models that you know, and can differ between each other by different hyperparameters, models of ml, features e.t.c) and train them.\n",
        "* Report individual accuracy on the test set for each of the models.\n",
        "* Train the metaclassifier (in this case, once again, it is just an ML model) on the original dataset's features, report score on test.\n",
        "* Train the metaclassifier on the base models using $n$-fold cross-validation, as described above. Report the training score of the meta-classifier on the $ n $-th fold. Retrain the base models on the whole training set. Report the test score (accuracy) of the meta-classifier in this case.\n",
        "* Does stacking help to gain a better score?"
      ]
    },
    {
      "cell_type": "markdown",
      "id": "incident-ceremony",
      "metadata": {
        "id": "incident-ceremony"
      },
      "source": [
        "For this task we will use the dataset fetch_covertype from [sklearn](https://scikit-learn.org/stable/modules/generated/sklearn.datasets.fetch_covtype.html#sklearn.datasets.fetch_covtype). Split it train-test - 60/40.\n",
        "More details about this dataset you can find [here](https://archive.ics.uci.edu/ml/datasets/Covertype)"
      ]
    },
    {
      "cell_type": "code",
      "execution_count": 97,
      "id": "banner-input",
      "metadata": {
        "id": "banner-input"
      },
      "outputs": [],
      "source": [
        "from sklearn import datasets\n",
        "fc = sklearn.datasets.fetch_covtype()"
      ]
    },
    {
      "cell_type": "markdown",
      "id": "collected-flash",
      "metadata": {
        "id": "collected-flash"
      },
      "source": [
        "Write meta classifier function."
      ]
    },
    {
      "cell_type": "code",
      "execution_count": 89,
      "id": "brilliant-greensboro",
      "metadata": {
        "id": "brilliant-greensboro"
      },
      "outputs": [],
      "source": [
        "def meta_classifier(base_clfs, final_classifier, X_train, X_test, y_train, cv):\n",
        "    \"\"\"\n",
        "    Meta classifier prediction using stacking. \n",
        "    Input:\n",
        "    :param base_clfs: list,  base classifiers which will be stacked together.\n",
        "    :param final_classifier: estimator, a classifier which will be used to combine the base estimators. \n",
        "    :param X_train: numpy array or pandas table, train set.\n",
        "    :param X_test: numpy array or pandas table, target for train set.\n",
        "    :param X_train: numpy array or pandas table, test set.\n",
        "    :param cv: number of cross-validation folds.\n",
        "    \n",
        "    Output:\n",
        "    :param y_pred: numpy array or pandas table, prediction of meta classifier using stacking on test set.\n",
        "    :param final_classifier(optional): estimator, trained final_calssifier.\n",
        "    \n",
        "    \n",
        "    More details https://scikit-learn.org/stable/modules/generated/sklearn.ensemble.StackingClassifier.html\n",
        "    \n",
        "    \"\"\"\n",
        "    ### BEGIN Solution (do not delete this comment)\n",
        "    import scipy\n",
        "    \n",
        "    predictions = []\n",
        "\n",
        "    for clf in base_clfs:\n",
        "        clf.fit(X_train, y_train)\n",
        "        pred = clf.predict(X_test)\n",
        "        predictions.append(pred)\n",
        "    \n",
        "    final_prediction = np.array([])\n",
        "    for i in range(0,len(x_test)):\n",
        "        final_prediction = np.append(final_prediction, scipy.stats.mode([p for p in predictions]))\n",
        "\n",
        "    print(final_prediction)\n",
        "    ### END Solution (do not delete this comment)\n",
        "    pass"
      ]
    },
    {
      "cell_type": "markdown",
      "id": "vfZmdicwORxq",
      "metadata": {
        "id": "vfZmdicwORxq"
      },
      "source": [
        "### Subproblem 3.1 (1 point)"
      ]
    },
    {
      "cell_type": "markdown",
      "id": "incredible-wichita",
      "metadata": {
        "id": "incredible-wichita"
      },
      "source": [
        "**3.1.1) Chose 6 different base models (base models can be any models that you know,and can differ with each other by different hyperparameters,  models of ml, features e.t.c) and train them.**"
      ]
    },
    {
      "cell_type": "code",
      "execution_count": 91,
      "id": "cleared-supply",
      "metadata": {
        "id": "cleared-supply"
      },
      "outputs": [],
      "source": [
        "### BEGIN Solution (do not delete this comment)\n",
        "\n",
        "from sklearn.tree import DecisionTreeClassifier\n",
        "from sklearn.ensemble import RandomForestClassifier\n",
        "from sklearn.neighbors import KNeighborsClassifier\n",
        "\n",
        "base_clfs = [\n",
        "        DecisionTreeClassifier(random_state = 5),      \n",
        "        DecisionTreeClassifier(random_state = 5, max_depth=5),\n",
        "        DecisionTreeClassifier(random_state = 5, max_depth=10),\n",
        "        RandomForestClassifier(n_estimators=10, max_depth=3, n_jobs=-1),\n",
        "        RandomForestClassifier(n_estimators=10, max_depth=5, n_jobs=-1),\n",
        "        RandomForestClassifier(n_estimators=30, max_depth=5, n_jobs=-1),\n",
        "]\n",
        "\n",
        "X_train, X_test, y_train, y_test = train_test_split(fc.data, fc.target, test_size=0.4, random_state=5)\n",
        "\n",
        "for clf in base_clfs:\n",
        "    clf.fit(X_train, y_train)        \n",
        "\n",
        "### END Solution (do not delete this comment)"
      ]
    },
    {
      "cell_type": "markdown",
      "id": "streaming-crowd",
      "metadata": {
        "id": "streaming-crowd"
      },
      "source": [
        "**3.1.2) Report individual scores on test set. As a score use accuracy.**"
      ]
    },
    {
      "cell_type": "code",
      "execution_count": 92,
      "id": "standing-breakdown",
      "metadata": {
        "id": "standing-breakdown",
        "colab": {
          "base_uri": "https://localhost:8080/"
        },
        "outputId": "9d1a1637-2132-4680-d24f-452c2240bda0"
      },
      "outputs": [
        {
          "output_type": "stream",
          "name": "stdout",
          "text": [
            "DecTree: 0.9297347303199157\n",
            "DecTree_depth5: 0.7023730126288161\n",
            "DecTree_depth_10: 0.7771347432284159\n",
            "RandForest_depth3_est10: 0.6134334459241411\n",
            "RandForest_depth5_est10: 0.6787504571760504\n",
            "RandForest_depth5_est30: 0.6830661990921022\n"
          ]
        }
      ],
      "source": [
        "### BEGIN Solution (do not delete this comment)\n",
        "\n",
        "scores = {}\n",
        "names = ['DecTree', 'DecTree_depth5', 'DecTree_depth_10', 'RandForest_depth3_est10', 'RandForest_depth5_est10', 'RandForest_depth5_est30']\n",
        "for clf, name in zip(base_clfs, names):\n",
        "    y_pred = clf.predict(X_test)\n",
        "    scores[name] = accuracy_score(y_test, y_pred)\n",
        "    print(f'{name}: {accuracy_score(y_test, y_pred)}')\n",
        "\n",
        "### END Solution (do not delete this comment)"
      ]
    },
    {
      "cell_type": "markdown",
      "id": "8CsZdyGPOj6E",
      "metadata": {
        "id": "8CsZdyGPOj6E"
      },
      "source": [
        "### Subproblem 3.2 (1 point)"
      ]
    },
    {
      "cell_type": "markdown",
      "id": "adolescent-street",
      "metadata": {
        "id": "adolescent-street"
      },
      "source": [
        "**3.2.1) Train metaclassifier (in this case, once again, it is just an ML model) on original dataset's features. And report score on test.**"
      ]
    },
    {
      "cell_type": "code",
      "execution_count": 96,
      "id": "lesbian-fields",
      "metadata": {
        "id": "lesbian-fields",
        "colab": {
          "base_uri": "https://localhost:8080/"
        },
        "outputId": "092c9326-174f-4d21-f937-0a3c8b411ec5"
      },
      "outputs": [
        {
          "output_type": "stream",
          "name": "stdout",
          "text": [
            "Metaclassifier score on original dataset features: 0.9295411028162045\n"
          ]
        }
      ],
      "source": [
        "### BEGIN Solution (do not delete this comment)\n",
        "\n",
        "meta_clf = DecisionTreeClassifier()\n",
        "meta_clf.fit(X_train, y_train)\n",
        "score = accuracy_score(y_test, meta_clf.predict(X_test))\n",
        "print(f'Metaclassifier score on original dataset features: {score}')\n",
        "\n",
        "### END Solution (do not delete this comment)"
      ]
    },
    {
      "cell_type": "markdown",
      "id": "horizontal-wallace",
      "metadata": {
        "id": "horizontal-wallace"
      },
      "source": [
        "**3.2.2) Train the metaclassifier on the base models using $n$-fold cross-validation, as described above. Report the training score of the meta-classifier on the $ n $-th fold. Retrain the base models on the whole training set. Report the test score (accuracy) of the meta-classifier in this case.**"
      ]
    },
    {
      "cell_type": "code",
      "execution_count": null,
      "id": "renewable-concrete",
      "metadata": {
        "id": "renewable-concrete"
      },
      "outputs": [],
      "source": [
        "### BEGIN Solution (do not delete this comment)\n",
        "\n",
        "meta_classifier(base_clfs=base_clfs, final_classifier=meta_clf, X_train=X_train, X_test=X_test, y_train=y_train, cv=5)\n",
        "\n",
        "### END Solution (do not delete this comment)"
      ]
    },
    {
      "cell_type": "markdown",
      "id": "printable-premium",
      "metadata": {
        "id": "printable-premium"
      },
      "source": [
        "**3.2.3) Report score(accuracy) on test.**"
      ]
    },
    {
      "cell_type": "code",
      "execution_count": null,
      "id": "auburn-easter",
      "metadata": {
        "id": "auburn-easter"
      },
      "outputs": [],
      "source": [
        "### BEGIN Solution (do not delete this comment)\n",
        "\n",
        "### END Solution (do not delete this comment)"
      ]
    },
    {
      "cell_type": "markdown",
      "id": "premier-scout",
      "metadata": {
        "id": "premier-scout"
      },
      "source": [
        "**3.2.4) Does stacking helped to gain a better score?**"
      ]
    },
    {
      "cell_type": "markdown",
      "id": "vSV5hJFR7RS-",
      "metadata": {
        "id": "vSV5hJFR7RS-"
      },
      "source": [
        "**Your text answer (do not delete this comment)**:\n",
        "\n",
        "\\<write your answer\\>"
      ]
    },
    {
      "cell_type": "code",
      "execution_count": null,
      "id": "offensive-parts",
      "metadata": {
        "id": "offensive-parts"
      },
      "outputs": [],
      "source": [
        ""
      ]
    }
  ],
  "metadata": {
    "colab": {
      "name": "Mariia_Makarova_part1.ipynb",
      "provenance": [],
      "collapsed_sections": []
    },
    "kernelspec": {
      "display_name": "Python 3",
      "language": "python",
      "name": "python3"
    },
    "language_info": {
      "codemirror_mode": {
        "name": "ipython",
        "version": 3
      },
      "file_extension": ".py",
      "mimetype": "text/x-python",
      "name": "python",
      "nbconvert_exporter": "python",
      "pygments_lexer": "ipython3",
      "version": "3.7.9"
    }
  },
  "nbformat": 4,
  "nbformat_minor": 5
}